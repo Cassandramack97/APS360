{
  "cells": [
    {
      "cell_type": "code",
      "execution_count": null,
      "metadata": {
        "id": "-QlYc7u1yIOH",
        "outputId": "0bcc659e-222c-4394-df37-ef1bfeada23d"
      },
      "outputs": [
        {
          "name": "stdout",
          "output_type": "stream",
          "text": [
            "Collecting unidecode\n",
            "  Downloading Unidecode-1.3.8-py3-none-any.whl.metadata (13 kB)\n",
            "Downloading Unidecode-1.3.8-py3-none-any.whl (235 kB)\n",
            "Installing collected packages: unidecode\n",
            "Successfully installed unidecode-1.3.8\n"
          ]
        },
        {
          "name": "stderr",
          "output_type": "stream",
          "text": [
            "  WARNING: The script unidecode.exe is installed in 'c:\\Users\\furla\\AppData\\Local\\Programs\\Python\\Python313\\Scripts' which is not on PATH.\n",
            "  Consider adding this directory to PATH or, if you prefer to suppress this warning, use --no-warn-script-location.\n",
            "\n",
            "[notice] A new release of pip is available: 24.3.1 -> 25.0.1\n",
            "[notice] To update, run: python.exe -m pip install --upgrade pip\n"
          ]
        }
      ],
      "source": [
        "!c:\\Users\\furla\\AppData\\Local\\Programs\\Python\\Python313\\python.exe -m pip install unidecode\n"
      ]
    },
    {
      "cell_type": "code",
      "execution_count": null,
      "metadata": {
        "id": "9FhWvgozyIOK",
        "outputId": "05dad4c0-8eb6-425d-e919-176869756fb9"
      },
      "outputs": [
        {
          "name": "stdout",
          "output_type": "stream",
          "text": [
            "Collecting seaborn\n",
            "  Downloading seaborn-0.13.2-py3-none-any.whl.metadata (5.4 kB)\n",
            "Requirement already satisfied: numpy!=1.24.0,>=1.20 in c:\\users\\furla\\appdata\\local\\programs\\python\\python313\\lib\\site-packages (from seaborn) (2.1.3)\n",
            "Requirement already satisfied: pandas>=1.2 in c:\\users\\furla\\appdata\\local\\programs\\python\\python313\\lib\\site-packages (from seaborn) (2.2.3)\n",
            "Requirement already satisfied: matplotlib!=3.6.1,>=3.4 in c:\\users\\furla\\appdata\\local\\programs\\python\\python313\\lib\\site-packages (from seaborn) (3.9.2)\n",
            "Requirement already satisfied: contourpy>=1.0.1 in c:\\users\\furla\\appdata\\local\\programs\\python\\python313\\lib\\site-packages (from matplotlib!=3.6.1,>=3.4->seaborn) (1.3.0)\n",
            "Requirement already satisfied: cycler>=0.10 in c:\\users\\furla\\appdata\\local\\programs\\python\\python313\\lib\\site-packages (from matplotlib!=3.6.1,>=3.4->seaborn) (0.12.1)\n",
            "Requirement already satisfied: fonttools>=4.22.0 in c:\\users\\furla\\appdata\\local\\programs\\python\\python313\\lib\\site-packages (from matplotlib!=3.6.1,>=3.4->seaborn) (4.54.1)\n",
            "Requirement already satisfied: kiwisolver>=1.3.1 in c:\\users\\furla\\appdata\\local\\programs\\python\\python313\\lib\\site-packages (from matplotlib!=3.6.1,>=3.4->seaborn) (1.4.7)\n",
            "Requirement already satisfied: packaging>=20.0 in c:\\users\\furla\\appdata\\roaming\\python\\python313\\site-packages (from matplotlib!=3.6.1,>=3.4->seaborn) (24.1)\n",
            "Requirement already satisfied: pillow>=8 in c:\\users\\furla\\appdata\\local\\programs\\python\\python313\\lib\\site-packages (from matplotlib!=3.6.1,>=3.4->seaborn) (11.0.0)\n",
            "Requirement already satisfied: pyparsing>=2.3.1 in c:\\users\\furla\\appdata\\local\\programs\\python\\python313\\lib\\site-packages (from matplotlib!=3.6.1,>=3.4->seaborn) (3.2.0)\n",
            "Requirement already satisfied: python-dateutil>=2.7 in c:\\users\\furla\\appdata\\roaming\\python\\python313\\site-packages (from matplotlib!=3.6.1,>=3.4->seaborn) (2.9.0.post0)\n",
            "Requirement already satisfied: pytz>=2020.1 in c:\\users\\furla\\appdata\\local\\programs\\python\\python313\\lib\\site-packages (from pandas>=1.2->seaborn) (2024.2)\n",
            "Requirement already satisfied: tzdata>=2022.7 in c:\\users\\furla\\appdata\\local\\programs\\python\\python313\\lib\\site-packages (from pandas>=1.2->seaborn) (2024.2)\n",
            "Requirement already satisfied: six>=1.5 in c:\\users\\furla\\appdata\\roaming\\python\\python313\\site-packages (from python-dateutil>=2.7->matplotlib!=3.6.1,>=3.4->seaborn) (1.16.0)\n",
            "Downloading seaborn-0.13.2-py3-none-any.whl (294 kB)\n",
            "Installing collected packages: seaborn\n",
            "Successfully installed seaborn-0.13.2\n"
          ]
        },
        {
          "name": "stderr",
          "output_type": "stream",
          "text": [
            "\n",
            "[notice] A new release of pip is available: 24.3.1 -> 25.0.1\n",
            "[notice] To update, run: python.exe -m pip install --upgrade pip\n"
          ]
        }
      ],
      "source": [
        "!c:\\Users\\furla\\AppData\\Local\\Programs\\Python\\Python313\\python.exe -m pip install seaborn\n"
      ]
    },
    {
      "cell_type": "code",
      "execution_count": null,
      "metadata": {
        "colab": {
          "base_uri": "https://localhost:8080/"
        },
        "id": "7maZuv5MYL6c",
        "outputId": "9cef5b0c-3c84-4396-867a-d2d1d56ac3a6"
      },
      "outputs": [
        {
          "name": "stdout",
          "output_type": "stream",
          "text": [
            "Requirement already satisfied: seaborn in c:\\users\\furla\\appdata\\local\\programs\\python\\python311\\lib\\site-packages (0.13.2)\n",
            "Requirement already satisfied: numpy!=1.24.0,>=1.20 in c:\\users\\furla\\appdata\\local\\programs\\python\\python311\\lib\\site-packages (from seaborn) (2.1.3)\n",
            "Requirement already satisfied: pandas>=1.2 in c:\\users\\furla\\appdata\\local\\programs\\python\\python311\\lib\\site-packages (from seaborn) (2.2.3)\n",
            "Requirement already satisfied: matplotlib!=3.6.1,>=3.4 in c:\\users\\furla\\appdata\\local\\programs\\python\\python311\\lib\\site-packages (from seaborn) (3.10.1)\n",
            "Requirement already satisfied: contourpy>=1.0.1 in c:\\users\\furla\\appdata\\local\\programs\\python\\python311\\lib\\site-packages (from matplotlib!=3.6.1,>=3.4->seaborn) (1.3.1)\n",
            "Requirement already satisfied: cycler>=0.10 in c:\\users\\furla\\appdata\\local\\programs\\python\\python311\\lib\\site-packages (from matplotlib!=3.6.1,>=3.4->seaborn) (0.12.1)\n",
            "Requirement already satisfied: fonttools>=4.22.0 in c:\\users\\furla\\appdata\\local\\programs\\python\\python311\\lib\\site-packages (from matplotlib!=3.6.1,>=3.4->seaborn) (4.56.0)\n",
            "Requirement already satisfied: kiwisolver>=1.3.1 in c:\\users\\furla\\appdata\\local\\programs\\python\\python311\\lib\\site-packages (from matplotlib!=3.6.1,>=3.4->seaborn) (1.4.8)\n",
            "Requirement already satisfied: packaging>=20.0 in c:\\users\\furla\\appdata\\roaming\\python\\python311\\site-packages (from matplotlib!=3.6.1,>=3.4->seaborn) (24.2)\n",
            "Requirement already satisfied: pillow>=8 in c:\\users\\furla\\appdata\\local\\programs\\python\\python311\\lib\\site-packages (from matplotlib!=3.6.1,>=3.4->seaborn) (11.1.0)\n",
            "Requirement already satisfied: pyparsing>=2.3.1 in c:\\users\\furla\\appdata\\local\\programs\\python\\python311\\lib\\site-packages (from matplotlib!=3.6.1,>=3.4->seaborn) (3.2.1)\n",
            "Requirement already satisfied: python-dateutil>=2.7 in c:\\users\\furla\\appdata\\roaming\\python\\python311\\site-packages (from matplotlib!=3.6.1,>=3.4->seaborn) (2.9.0.post0)\n",
            "Requirement already satisfied: pytz>=2020.1 in c:\\users\\furla\\appdata\\local\\programs\\python\\python311\\lib\\site-packages (from pandas>=1.2->seaborn) (2025.1)\n",
            "Requirement already satisfied: tzdata>=2022.7 in c:\\users\\furla\\appdata\\local\\programs\\python\\python311\\lib\\site-packages (from pandas>=1.2->seaborn) (2025.1)\n",
            "Requirement already satisfied: six>=1.5 in c:\\users\\furla\\appdata\\roaming\\python\\python311\\site-packages (from python-dateutil>=2.7->matplotlib!=3.6.1,>=3.4->seaborn) (1.17.0)\n"
          ]
        },
        {
          "name": "stderr",
          "output_type": "stream",
          "text": [
            "\n",
            "[notice] A new release of pip is available: 23.1.2 -> 25.0.1\n",
            "[notice] To update, run: C:\\Users\\furla\\AppData\\Local\\Programs\\Python\\Python311\\python.exe -m pip install --upgrade pip\n"
          ]
        },
        {
          "name": "stdout",
          "output_type": "stream",
          "text": [
            "Requirement already satisfied: unidecode in c:\\users\\furla\\appdata\\local\\programs\\python\\python311\\lib\\site-packages (1.3.8)\n"
          ]
        },
        {
          "name": "stderr",
          "output_type": "stream",
          "text": [
            "\n",
            "[notice] A new release of pip is available: 23.1.2 -> 25.0.1\n",
            "[notice] To update, run: C:\\Users\\furla\\AppData\\Local\\Programs\\Python\\Python311\\python.exe -m pip install --upgrade pip\n"
          ]
        },
        {
          "name": "stdout",
          "output_type": "stream",
          "text": [
            "Requirement already satisfied: scikit-learn in c:\\users\\furla\\appdata\\local\\programs\\python\\python311\\lib\\site-packages (1.6.1)\n",
            "Requirement already satisfied: numpy>=1.19.5 in c:\\users\\furla\\appdata\\local\\programs\\python\\python311\\lib\\site-packages (from scikit-learn) (2.1.3)\n",
            "Requirement already satisfied: scipy>=1.6.0 in c:\\users\\furla\\appdata\\local\\programs\\python\\python311\\lib\\site-packages (from scikit-learn) (1.15.2)\n",
            "Requirement already satisfied: joblib>=1.2.0 in c:\\users\\furla\\appdata\\local\\programs\\python\\python311\\lib\\site-packages (from scikit-learn) (1.4.2)\n",
            "Requirement already satisfied: threadpoolctl>=3.1.0 in c:\\users\\furla\\appdata\\local\\programs\\python\\python311\\lib\\site-packages (from scikit-learn) (3.5.0)\n"
          ]
        },
        {
          "name": "stderr",
          "output_type": "stream",
          "text": [
            "\n",
            "[notice] A new release of pip is available: 23.1.2 -> 25.0.1\n",
            "[notice] To update, run: C:\\Users\\furla\\AppData\\Local\\Programs\\Python\\Python311\\python.exe -m pip install --upgrade pip\n"
          ]
        }
      ],
      "source": [
        "!pip install seaborn\n",
        "!pip install unidecode\n",
        "!pip install scikit-learn\n",
        "import os\n",
        "import numpy as np\n",
        "import pandas as pd\n",
        "import matplotlib.pyplot as plt\n",
        "import seaborn as sns\n",
        "from sklearn.ensemble import RandomForestRegressor\n",
        "from sklearn.model_selection import RandomizedSearchCV\n",
        "from sklearn.metrics import make_scorer, mean_squared_error\n",
        "from scipy.stats import randint\n",
        "from unidecode import unidecode\n",
        "\n",
        "project_dir = r'C:\\Users\\furla\\OneDrive\\Desktop\\APS360'\n",
        "\n",
        "# Defines folder paths for train, validation, and test tensors\n",
        "train_folder = os.path.join(project_dir, 'combined_tensors_train')\n",
        "val_folder = os.path.join(project_dir, 'combined_tensors_val')\n",
        "test_folder = os.path.join(project_dir, 'combined_tensors_test')\n",
        "\n",
        "# Define paths for the metadata CSV files\n",
        "train_csv_path = os.path.join(project_dir, 'final_train_metadata.csv')\n",
        "val_csv_path = os.path.join(project_dir, 'final_val_metadata.csv')\n",
        "test_csv_path = os.path.join(project_dir, 'final_test_metadata.csv')\n"
      ]
    },
    {
      "cell_type": "code",
      "execution_count": null,
      "metadata": {
        "id": "LVQ0U-NxYQVn"
      },
      "outputs": [],
      "source": [
        "# Function to convert tensors into a single feature vector\n",
        "def convertToVector(tensor):\n",
        "    # Compute mean and standard deviation\n",
        "    meanFeatures = np.mean(tensor, axis=0)\n",
        "    stdFeatures = np.std(tensor, axis=0)\n",
        "    # Concatenate into one feature vector\n",
        "    return np.concatenate((meanFeatures, stdFeatures))\n"
      ]
    },
    {
      "cell_type": "code",
      "execution_count": null,
      "metadata": {
        "colab": {
          "base_uri": "https://localhost:8080/"
        },
        "id": "uZeyCcFWYSOR",
        "outputId": "2de8958d-d8c5-4a2d-d13b-257680004456"
      },
      "outputs": [
        {
          "name": "stdout",
          "output_type": "stream",
          "text": [
            "Error renaming BÃ¼cher__Medienkarriere_Lametta__Co_Werner_Schneyder_Dieter_Hildebrandt.npy: [WinError 3] The system cannot find the path specified: 'C:\\\\Users\\\\furla\\\\OneDrive\\\\Desktop\\\\APS360\\\\combined_tensors_train\\\\BÃ¼cher__Medienkarriere_Lametta__Co_Werner_Schneyder_Dieter_Hildebrandt.npy' -> 'C:\\\\Users\\\\furla\\\\OneDrive\\\\Desktop\\\\APS360\\\\combined_tensors_train\\\\BA 1/4cher__Medienkarriere_Lametta__Co_Werner_Schneyder_Dieter_Hildebrandt.npy'\n",
            "Error renaming Die_Macht_der_GefÃ¼hle_Geschwister_Hofmann.npy: [WinError 3] The system cannot find the path specified: 'C:\\\\Users\\\\furla\\\\OneDrive\\\\Desktop\\\\APS360\\\\combined_tensors_train\\\\Die_Macht_der_GefÃ¼hle_Geschwister_Hofmann.npy' -> 'C:\\\\Users\\\\furla\\\\OneDrive\\\\Desktop\\\\APS360\\\\combined_tensors_train\\\\Die_Macht_der_GefA 1/4hle_Geschwister_Hofmann.npy'\n",
            "Error renaming FÃ¼r_immer_und_ewig_Geschwister_Hofmann.npy: [WinError 3] The system cannot find the path specified: 'C:\\\\Users\\\\furla\\\\OneDrive\\\\Desktop\\\\APS360\\\\combined_tensors_train\\\\FÃ¼r_immer_und_ewig_Geschwister_Hofmann.npy' -> 'C:\\\\Users\\\\furla\\\\OneDrive\\\\Desktop\\\\APS360\\\\combined_tensors_train\\\\FA 1/4r_immer_und_ewig_Geschwister_Hofmann.npy'\n",
            "Training Folder Rename Fails:\n",
            "('BÃ¼cher__Medienkarriere_Lametta__Co_Werner_Schneyder_Dieter_Hildebrandt.npy', \"[WinError 3] The system cannot find the path specified: 'C:\\\\\\\\Users\\\\\\\\furla\\\\\\\\OneDrive\\\\\\\\Desktop\\\\\\\\APS360\\\\\\\\combined_tensors_train\\\\\\\\BÃ¼cher__Medienkarriere_Lametta__Co_Werner_Schneyder_Dieter_Hildebrandt.npy' -> 'C:\\\\\\\\Users\\\\\\\\furla\\\\\\\\OneDrive\\\\\\\\Desktop\\\\\\\\APS360\\\\\\\\combined_tensors_train\\\\\\\\BA 1/4cher__Medienkarriere_Lametta__Co_Werner_Schneyder_Dieter_Hildebrandt.npy'\")\n",
            "('Die_Macht_der_GefÃ¼hle_Geschwister_Hofmann.npy', \"[WinError 3] The system cannot find the path specified: 'C:\\\\\\\\Users\\\\\\\\furla\\\\\\\\OneDrive\\\\\\\\Desktop\\\\\\\\APS360\\\\\\\\combined_tensors_train\\\\\\\\Die_Macht_der_GefÃ¼hle_Geschwister_Hofmann.npy' -> 'C:\\\\\\\\Users\\\\\\\\furla\\\\\\\\OneDrive\\\\\\\\Desktop\\\\\\\\APS360\\\\\\\\combined_tensors_train\\\\\\\\Die_Macht_der_GefA 1/4hle_Geschwister_Hofmann.npy'\")\n",
            "('FÃ¼r_immer_und_ewig_Geschwister_Hofmann.npy', \"[WinError 3] The system cannot find the path specified: 'C:\\\\\\\\Users\\\\\\\\furla\\\\\\\\OneDrive\\\\\\\\Desktop\\\\\\\\APS360\\\\\\\\combined_tensors_train\\\\\\\\FÃ¼r_immer_und_ewig_Geschwister_Hofmann.npy' -> 'C:\\\\\\\\Users\\\\\\\\furla\\\\\\\\OneDrive\\\\\\\\Desktop\\\\\\\\APS360\\\\\\\\combined_tensors_train\\\\\\\\FA 1/4r_immer_und_ewig_Geschwister_Hofmann.npy'\")\n",
            "Training Data Shapes:\n",
            "xTrain: (6138, 78)\n",
            "yTrain: (6138, 11)\n"
          ]
        }
      ],
      "source": [
        "# Training Data Processing\n",
        "\n",
        "# Rename files in the training folder (Unicode)\n",
        "train_fails = []\n",
        "for file in os.listdir(train_folder):\n",
        "    normalizedName = unidecode(file)\n",
        "    if file != normalizedName:\n",
        "        old_file_path = os.path.join(train_folder, file)\n",
        "        new_file_path = os.path.join(train_folder, normalizedName)\n",
        "        if os.path.exists(old_file_path):\n",
        "            try:\n",
        "                os.rename(old_file_path, new_file_path)\n",
        "                print(f\"Renamed: {file} -> {normalizedName}\")\n",
        "            except Exception as e:\n",
        "                print(f\"Error renaming {file}: {e}\")\n",
        "                train_fails.append((file, str(e)))\n",
        "        else:\n",
        "            print(f\"File not found, skipping: {file}\")\n",
        "            train_fails.append((file, \"File not found\"))\n",
        "print(\"Training Folder Rename Fails:\")\n",
        "for fail in train_fails:\n",
        "    print(fail)\n",
        "\n",
        "# Get list of training files (after renaming)\n",
        "train_files = os.listdir(train_folder)\n",
        "\n",
        "# Read training metadata CSV and normalize filenames\n",
        "labelsDF = pd.read_csv(train_csv_path)\n",
        "labelsDF[labelsDF.columns[0]] = labelsDF[labelsDF.columns[0]].apply(unidecode)\n",
        "\n",
        "matchingLabelsDF = labelsDF[labelsDF[labelsDF.columns[0]].isin(train_files)]\n",
        "matchingLabelsDF = matchingLabelsDF.sort_values(by=labelsDF.columns[0])\n",
        "yTrain = matchingLabelsDF.iloc[:, 1:].values\n",
        "\n",
        "# Build xTrain using the matching filenames from the CSV\n",
        "matchingTrainFilenames = matchingLabelsDF[labelsDF.columns[0]].tolist()\n",
        "vectorList = []\n",
        "for filename in matchingTrainFilenames:\n",
        "    fullPath = os.path.join(train_folder, filename)\n",
        "    tensor = np.load(fullPath)\n",
        "    vectorList.append(convertToVector(tensor))\n",
        "xTrain = np.array(vectorList)\n",
        "\n",
        "print(\"Training Data Shapes:\")\n",
        "print(\"xTrain:\", xTrain.shape)\n",
        "print(\"yTrain:\", yTrain.shape)\n"
      ]
    },
    {
      "cell_type": "code",
      "execution_count": null,
      "metadata": {
        "colab": {
          "base_uri": "https://localhost:8080/"
        },
        "id": "l1SUnRxUYUXp",
        "outputId": "e3caf63e-1686-4d99-8c82-e0a66edfb947"
      },
      "outputs": [
        {
          "name": "stdout",
          "output_type": "stream",
          "text": [
            "Validation Folder Rename Fails:\n",
            "Validation Data Shapes:\n",
            "xVal: (1482, 78)\n",
            "yVal: (1482, 11)\n",
            "Combined Training+Validation Shapes:\n",
            "xTrain: (7620, 78)\n",
            "yTrain: (7620, 11)\n"
          ]
        }
      ],
      "source": [
        "# Validation Data Processing\n",
        "\n",
        "# Rename files in the validation folder\n",
        "val_fails = []\n",
        "for file in os.listdir(val_folder):\n",
        "    normalizedName = unidecode(file)\n",
        "    if file != normalizedName:\n",
        "        old_file_path = os.path.join(val_folder, file)\n",
        "        new_file_path = os.path.join(val_folder, normalizedName)\n",
        "        if os.path.exists(old_file_path):\n",
        "            try:\n",
        "                os.rename(old_file_path, new_file_path)\n",
        "                print(f\"Renamed: {file} -> {normalizedName}\")\n",
        "            except Exception as e:\n",
        "                print(f\"Error renaming {file}: {e}\")\n",
        "                val_fails.append((file, str(e)))\n",
        "        else:\n",
        "            print(f\"File not found, skipping: {file}\")\n",
        "            val_fails.append((file, \"File not found\"))\n",
        "print(\"Validation Folder Rename Fails:\")\n",
        "for fail in val_fails:\n",
        "    print(fail)\n",
        "\n",
        "# Read validation metadata CSV and normalize filenames\n",
        "valLabelsDF = pd.read_csv(val_csv_path)\n",
        "valLabelsDF[valLabelsDF.columns[0]] = valLabelsDF[valLabelsDF.columns[0]].apply(unidecode)\n",
        "\n",
        "# Filter CSV for files that exist in the validation folder\n",
        "val_files = os.listdir(val_folder)\n",
        "matchingValLabelsDF = valLabelsDF[valLabelsDF[valLabelsDF.columns[0]].isin(val_files)]\n",
        "matchingValLabelsDF = matchingValLabelsDF.sort_values(by=valLabelsDF.columns[0])\n",
        "yVal = matchingValLabelsDF.iloc[:, 1:].values\n",
        "\n",
        "# Build xVal using matching filenames from the validation CSV\n",
        "matchingValFilenames = matchingValLabelsDF[valLabelsDF.columns[0]].tolist()\n",
        "valVectorList = []\n",
        "for filename in matchingValFilenames:\n",
        "    fullValPath = os.path.join(val_folder, filename)\n",
        "    tensor = np.load(fullValPath)\n",
        "    valVectorList.append(convertToVector(tensor))\n",
        "xVal = np.array(valVectorList)\n",
        "\n",
        "print(\"Validation Data Shapes:\")\n",
        "print(\"xVal:\", xVal.shape)\n",
        "print(\"yVal:\", yVal.shape)\n",
        "\n",
        "# Concatenate training and validation data\n",
        "xTrain = np.concatenate((xTrain, xVal), axis=0)\n",
        "yTrain = np.concatenate((yTrain, yVal), axis=0)\n",
        "print(\"Combined Training+Validation Shapes:\")\n",
        "print(\"xTrain:\", xTrain.shape)\n",
        "print(\"yTrain:\", yTrain.shape)\n"
      ]
    },
    {
      "cell_type": "code",
      "execution_count": null,
      "metadata": {
        "colab": {
          "base_uri": "https://localhost:8080/"
        },
        "id": "hRVcp6BNYV3h",
        "outputId": "67f1bb60-c68a-49a0-b6e8-3e03eb54573b"
      },
      "outputs": [
        {
          "name": "stdout",
          "output_type": "stream",
          "text": [
            "Test Folder Rename Fails:\n",
            "Test Data Shapes:\n",
            "xTest: (1463, 78)\n",
            "yTest: (1463, 11)\n"
          ]
        }
      ],
      "source": [
        "# Test Data Processing\n",
        "\n",
        "# Rename files in the test folder (Unicode debug issue we had earlier)\n",
        "test_fails = []\n",
        "for file in os.listdir(test_folder):\n",
        "    normalizedName = unidecode(file)\n",
        "    if file != normalizedName:\n",
        "        old_file_path = os.path.join(test_folder, file)\n",
        "        new_file_path = os.path.join(test_folder, normalizedName)\n",
        "        if os.path.exists(old_file_path):\n",
        "            try:\n",
        "                os.rename(old_file_path, new_file_path)\n",
        "                print(f\"Renamed: {file} -> {normalizedName}\")\n",
        "            except Exception as e:\n",
        "                print(f\"Error renaming {file}: {e}\")\n",
        "                test_fails.append((file, str(e)))\n",
        "        else:\n",
        "            print(f\"File not found, skipping: {file}\")\n",
        "            test_fails.append((file, \"File not found\"))\n",
        "print(\"Test Folder Rename Fails:\")\n",
        "for fail in test_fails:\n",
        "    print(fail)\n",
        "\n",
        "# Read test metadata CSV and normalize the filenames\n",
        "testLabelsDF = pd.read_csv(test_csv_path)\n",
        "testLabelsDF[testLabelsDF.columns[0]] = testLabelsDF[testLabelsDF.columns[0]].apply(unidecode)\n",
        "\n",
        "# Filter the CSV for test files\n",
        "test_files = os.listdir(test_folder)\n",
        "matchingTestLabelsDF = testLabelsDF[testLabelsDF[testLabelsDF.columns[0]].isin(test_files)]\n",
        "matchingTestLabelsDF = matchingTestLabelsDF.sort_values(by=testLabelsDF.columns[0])\n",
        "yTest = matchingTestLabelsDF.iloc[:, 1:].values\n",
        "\n",
        "# Build xTest using only the matching filenames from the test CSV\n",
        "matchingTestFilenames = matchingTestLabelsDF[testLabelsDF.columns[0]].tolist()\n",
        "testVectorList = []\n",
        "for filename in matchingTestFilenames:\n",
        "    fullTestPath = os.path.join(test_folder, filename)\n",
        "    tensor = np.load(fullTestPath)\n",
        "    testVectorList.append(convertToVector(tensor))\n",
        "xTest = np.array(testVectorList)\n",
        "\n",
        "print(\"Test Data Shapes:\")\n",
        "print(\"xTest:\", xTest.shape)\n",
        "print(\"yTest:\", yTest.shape)\n"
      ]
    },
    {
      "cell_type": "code",
      "execution_count": null,
      "metadata": {
        "colab": {
          "base_uri": "https://localhost:8080/"
        },
        "id": "sVRCLhprYXkL",
        "outputId": "41752924-ddcc-422b-d349-2ae80fb1eb02"
      },
      "outputs": [
        {
          "name": "stdout",
          "output_type": "stream",
          "text": [
            "Fitting 5 folds for each of 500 candidates, totalling 2500 fits\n",
            "Best Hyperparameters:\n",
            "n_estimators: 672, max_features: log2, max_depth: 95, bootstrap: False\n",
            "Best MSE on training: 83.67924314268987\n",
            "MSE for each feature on the test set:\n",
            "valence: 0.04853245530445572\n",
            "liveness: 0.027174217810552164\n",
            "time_signature: 0.24194158067132318\n",
            "energy: 0.025657810088887057\n",
            "speechiness: 0.00704552925537435\n",
            "instrumentalness: 0.08437960896374248\n",
            "acousticness: 0.047267579072288665\n",
            "tempo: 843.9381328992521\n",
            "loudness: 13.85500619618969\n",
            "danceability: 0.021674080577427344\n",
            "key: 11.357900733889473\n"
          ]
        }
      ],
      "source": [
        "# Defines the baseline RandomForest regressor\n",
        "rfRegressor = RandomForestRegressor(n_estimators=100, random_state=42)\n",
        "\n",
        "# These are the hyperparameters used to tune\n",
        "paramsdistRF = {\n",
        "    'max_features': ['sqrt', 'log2', 0.1, 0.25, 0.5, 0.75, 1.0],\n",
        "    'n_estimators': randint(50, 1000),\n",
        "    'max_depth': range(10, 100),\n",
        "    'bootstrap': [True, False]\n",
        "}\n",
        "\n",
        "# This scores the MSE (lower is better)\n",
        "mseScorer = make_scorer(mean_squared_error, greater_is_better=False)\n",
        "\n",
        "# RandomizedSearchCV for hyperparameter tuning\n",
        "randSearchRF = RandomizedSearchCV(rfRegressor, param_distributions=paramsdistRF, cv=5, verbose=2,\n",
        "                                  random_state=42, n_jobs=-1, n_iter=500, scoring=mseScorer)\n",
        "randSearchRF.fit(xTrain, yTrain)\n",
        "\n",
        "bestParamsRF = randSearchRF.best_params_\n",
        "bestScoreRF = randSearchRF.best_score_\n",
        "# Convert negative MSE to positive\n",
        "bestMSE = -bestScoreRF\n",
        "\n",
        "print(\"Best Hyperparameters:\")\n",
        "print(f\"n_estimators: {bestParamsRF['n_estimators']}, max_features: {bestParamsRF['max_features']}, \"\n",
        "      f\"max_depth: {bestParamsRF['max_depth']}, bootstrap: {bestParamsRF['bootstrap']}\")\n",
        "print(f\"Best MSE on training: {bestMSE}\")\n",
        "\n",
        "# This defines and fits the best RandomForest regressor on the training data\n",
        "bestRFRegressor = RandomForestRegressor(n_estimators=bestParamsRF['n_estimators'],\n",
        "                                        max_features=bestParamsRF['max_features'],\n",
        "                                        max_depth=bestParamsRF['max_depth'],\n",
        "                                        bootstrap=bestParamsRF['bootstrap'],\n",
        "                                        random_state=42)\n",
        "bestRFRegressor.fit(xTrain, yTrain)\n",
        "\n",
        "# This does the predictions on the test set\n",
        "testPreds = bestRFRegressor.predict(xTest)\n",
        "\n",
        "# Computes MSE for each output feature\n",
        "featureMSEs = mean_squared_error(yTest, testPreds, multioutput='raw_values')\n",
        "\n",
        "outputLabels = [\"valence\", \"liveness\", \"time_signature\", \"energy\", \"speechiness\",\n",
        "                \"instrumentalness\", \"acousticness\", \"tempo\", \"loudness\", \"danceability\", \"key\"]\n",
        "\n",
        "print(\"MSE for each feature on the test set:\")\n",
        "for i, feature in enumerate(outputLabels):\n",
        "    print(f\"{feature}: {featureMSEs[i]}\")\n"
      ]
    },
    {
      "cell_type": "code",
      "execution_count": null,
      "metadata": {
        "id": "R1TOFqtUYYpG",
        "outputId": "fcada8e0-7bab-49ff-92da-9a755cb146dc"
      },
      "outputs": [
        {
          "data": {
            "image/png": "[encoded data removed]",
            "text/plain": [
              "<Figure size 1200x500 with 2 Axes>"
            ]
          },
          "metadata": {},
          "output_type": "display_data"
        }
      ],
      "source": [
        "# Plot Heatmap for MSE Values\n",
        "def plot_mse_heatmap(mse_values, feature_names):\n",
        "    mse_df = pd.DataFrame({\"Feature\": feature_names, \"MSE\": mse_values}).set_index(\"Feature\")\n",
        "    plt.figure(figsize=(12, 5))\n",
        "    sns.heatmap(mse_df.T, annot=True, cmap=\"coolwarm\", fmt=\".4f\")\n",
        "    plt.title(\"Heatmap for MSE of Features\")\n",
        "    plt.show()\n",
        "\n",
        "# Round the MSE values for display and plot\n",
        "mse_values = np.round(np.array(featureMSEs), decimals=4)\n",
        "plot_mse_heatmap(mse_values, outputLabels)\n"
      ]
    }
  ],
  "metadata": {
    "accelerator": "GPU",
    "colab": {
      "gpuType": "T4",
      "provenance": []
    },
    "kernelspec": {
      "display_name": "Python 3",
      "name": "python3"
    },
    "language_info": {
      "codemirror_mode": {
        "name": "ipython",
        "version": 3
      },
      "file_extension": ".py",
      "mimetype": "text/x-python",
      "name": "python",
      "nbconvert_exporter": "python",
      "pygments_lexer": "ipython3",
      "version": "3.13.0"
    }
  },
  "nbformat": 4,
  "nbformat_minor": 0
}